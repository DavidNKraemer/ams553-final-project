{
 "cells": [
  {
   "cell_type": "markdown",
   "metadata": {},
   "source": [
    "# Simulated annealing proof of concept"
   ]
  },
  {
   "cell_type": "code",
   "execution_count": 107,
   "metadata": {},
   "outputs": [],
   "source": [
    "import abc\n",
    "from time import sleep\n",
    "from numpy import exp\n",
    "from numpy.linalg import norm\n",
    "from numpy.random import rand\n",
    "from random import sample, shuffle\n",
    "import matplotlib.pyplot as plt\n",
    "%matplotlib inline"
   ]
  },
  {
   "cell_type": "code",
   "execution_count": 100,
   "metadata": {},
   "outputs": [],
   "source": [
    "def random_partition(length, parts):\n",
    "    \"\"\"\n",
    "    Partitiosn the range 0, 1, 2, ..., `length`-1 into `parts` random classes\n",
    "    \"\"\"\n",
    "    iterable = list(range(length))\n",
    "    shuffle(iterable)\n",
    "    indices = [0] + sorted(sample(range(1, length), k=parts-1))\n",
    "    return [iterable[indices[i]:indices[i+1]] for i in range(parts-1)] + [iterable[indices[-1]:]]\n",
    "\n",
    "\n",
    "def policy_traversal(policy, points):\n",
    "    \"\"\"\n",
    "    Computes the total traversal time for a policy on a selection of points\n",
    "    \"\"\"\n",
    "    return sum(norm(points[policy[i]] - points[policy[i-1]]) for i, p in enumerate(policy))\n",
    "\n",
    "\n",
    "def max_policy_traversal(policies, points):\n",
    "    \"\"\"\n",
    "    Computes the worst traversal time of a set of policies on a collection of points\n",
    "    \"\"\"\n",
    "    return max(policy_traversal(policy, points) for policy in policies)\n",
    "\n",
    "\n",
    "def plot_policies(policies, points, axis=plt):\n",
    "    \"\"\"\n",
    "    Plots a set of traversal policies for a given set of points.\n",
    "    \"\"\"\n",
    "    axis.plot(*points.T, 'o')\n",
    "    for (i, point) in enumerate(points):\n",
    "        axis.annotate(\"${}$\".format(i), point)\n",
    "    for policy in policies:\n",
    "        axis.fill(*points[policy].T, fill=False)"
   ]
  },
  {
   "cell_type": "code",
   "execution_count": 152,
   "metadata": {},
   "outputs": [],
   "source": [
    "class StateSpace(abc.ABC):\n",
    "    @abc.abstractclassmethod\n",
    "    class State(abc.ABC):\n",
    "        pass\n",
    "    \n",
    "    @abc.abstractmethod\n",
    "    def cost(self, state: \"State\") -> float:\n",
    "        raise NotImplementedError\n",
    "        \n",
    "    @abc.abstractmethod\n",
    "    def neighbor(self, state: \"State\") -> \"State\":\n",
    "        raise NotImplementedError\n",
    "        \n",
    "    @abc.abstractmethod\n",
    "    def random_state(self) -> \"State\":\n",
    "        raise NotImplementedError\n",
    "\n",
    "class Annealer:\n",
    "    def __init__(self, space: StateSpace, inf_temp=1e-5, discount=0.9, internal_iter=100):\n",
    "        self.space = space\n",
    "        self.inf_temperature = inf_temp\n",
    "        self.discount = discount\n",
    "        self.internal_iterations = internal_iter\n",
    "    \n",
    "    def transition_probability(self, cost1, cost2, temperature) -> float:\n",
    "        return exp(-(cost2 - cost1) / temperature)\n",
    "    \n",
    "    def anneal(self, starting_state: StateSpace.State) -> (StateSpace.State, float):\n",
    "        state = starting_state\n",
    "        old_cost = self.space.cost(state)\n",
    "        temperature = 1e0\n",
    "        while temperature > self.inf_temperature:\n",
    "            for _ in range(self.internal_iterations):\n",
    "                new_state = self.space.neighbor(state)\n",
    "                new_cost = self.space.cost(new_state)\n",
    "                if rand() < self.transition_probability(old_cost, new_cost, temperature):\n",
    "                    state, old_cost = new_state, new_cost\n",
    "            temperature *= self.discount\n",
    "        return state, old_cost"
   ]
  },
  {
   "cell_type": "code",
   "execution_count": 153,
   "metadata": {},
   "outputs": [],
   "source": [
    "class KDroneTour(StateSpace):\n",
    "    class State(list):\n",
    "        pass\n",
    "    \n",
    "    def __init__(self, points, num_drones):\n",
    "        self.points = points\n",
    "        self.num_drones = num_drones\n",
    "        \n",
    "    def cost(self, state):\n",
    "        return max_policy_traversal(state, self.points)\n",
    "    \n",
    "    def random_state(self):\n",
    "        return random_partition(len(self.points), self.num_drones)\n",
    "    \n",
    "    def neighbor(self, state):\n",
    "        return self.random_state()"
   ]
  },
  {
   "cell_type": "code",
   "execution_count": 159,
   "metadata": {},
   "outputs": [
    {
     "name": "stderr",
     "output_type": "stream",
     "text": [
      "/home/david/repositories/anaconda3/lib/python3.6/site-packages/ipykernel_launcher.py:26: RuntimeWarning: overflow encountered in exp\n"
     ]
    },
    {
     "data": {
      "image/png": "[encoded data removed]",
      "text/plain": [
       "<matplotlib.figure.Figure at 0x7f98641e1630>"
      ]
     },
     "metadata": {},
     "output_type": "display_data"
    }
   ],
   "source": [
    "points = rand(10, 2)\n",
    "annealer = Annealer(KDroneTour(points, 1))\n",
    "k_tour, penalty = annealer.anneal(annealer.space.random_state())\n",
    "\n",
    "fig, ax = plt.subplots(1,1, figsize=(12,12))\n",
    "plot_policies(k_tour, points, axis=ax)\n",
    "ax.set_aspect('equal')\n",
    "ax.axis('off');"
   ]
  }
 ],
 "metadata": {
  "kernelspec": {
   "display_name": "Python 3",
   "language": "python",
   "name": "python3"
  },
  "language_info": {
   "codemirror_mode": {
    "name": "ipython",
    "version": 3
   },
   "file_extension": ".py",
   "mimetype": "text/x-python",
   "name": "python",
   "nbconvert_exporter": "python",
   "pygments_lexer": "ipython3",
   "version": "3.6.3"
  }
 },
 "nbformat": 4,
 "nbformat_minor": 2
}
