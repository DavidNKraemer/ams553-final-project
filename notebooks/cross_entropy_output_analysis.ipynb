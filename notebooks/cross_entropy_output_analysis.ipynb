{
 "cells": [
  {
   "cell_type": "code",
   "execution_count": 1,
   "metadata": {},
   "outputs": [],
   "source": [
    "import numpy as np, scipy.stats as st\n",
    "\n",
    "import src\n",
    "import src.tours as tours\n",
    "from src.cross_entropy import CrossEntropy\n"
   ]
  },
  {
   "cell_type": "code",
   "execution_count": 10,
   "metadata": {},
   "outputs": [],
   "source": [
    "# drone tour parameters\n",
    "num_sites, num_drones = 10, 4\n",
    "sites = np.random.rand(num_sites, 2)  # the 2 indicates we are sampling sites from the plane\n",
    "\n",
    "drone_tour = tours.DroneTour(sites, num_drones)\n",
    "\n",
    "# cross entropy parameters\n",
    "x_entropy_sample_size = 5 # sample size\n",
    "x_entropy_quantile = 0.2  # specifies the 90% percentile\n",
    "\n",
    "x_entropy_estimator = CrossEntropy(drone_tour, x_entropy_sample_size, x_entropy_quantile)\n",
    "\n",
    "# an example way to use the callback -- see below for details\n",
    "sample_scores = []\n",
    "hundreth_tour_costs = []"
   ]
  },
  {
   "cell_type": "code",
   "execution_count": 7,
   "metadata": {},
   "outputs": [],
   "source": [
    "def callback(**kwargs):\n",
    "    \"\"\"\n",
    "\n",
    "    :param kwargs:\n",
    "    The keyword arguments passed to callback are\n",
    "            - iteration, the current iteration\n",
    "            - sample_states, the current sample of states in the given round of annealing\n",
    "            - sample_scores, the scores associated with the sampled states in the given round of annealing\n",
    "            - threshold, the scores which form the (1-quantile) quantile of the sample scores\n",
    "            - distribution_parameters, the current parameters of the distribution of states in the state space\n",
    "    :return:\n",
    "    \"\"\"\n",
    "    sample_scores.append(kwargs['sample_scores'])  # for example, maybe we want a list of all sample scores during\n",
    "    # the run of cross entropy"
   ]
  },
  {
   "cell_type": "code",
   "execution_count": 13,
   "metadata": {},
   "outputs": [
    {
     "name": "stdout",
     "output_type": "stream",
     "text": [
      "[2.5113449455241312, 1.9311228398076326, 1.7465253485980547, 2.0167493386745075, 1.7455019302313026, 2.024112894338163, 2.4640445230780474, 2.0631805868797817, 2.4896254592039404, 2.1380652563101186, 1.698588211382055, 1.7839216606235309, 1.631015914634682, 1.7467483344315826, 1.868850461432354, 2.4455565675167557, 2.3286843407762774, 1.9079965816935254, 1.917173637022419, 1.9113815876219757, 2.0877650971417037, 1.638004847543574, 2.05367489031718, 2.522912335456118, 1.9607680564910548, 1.927904396874422, 1.946443929051453, 2.423558530599638, 1.927904396874422, 1.7720404192048347, 1.8041299696228519, 1.824211132966156, 2.3542043001612676, 1.8837881718934657, 1.9095875606026749, 2.0411741710969302, 1.970075568036398, 2.386434551545732, 1.8480433138319337, 1.8013430726631179, 2.1807354787301496, 1.9650589588960954, 2.0275794627244585, 2.365198431280554, 1.3262854046521828, 2.3970460337662387, 1.753595410801418, 2.378628091643023, 1.6308104975008733, 2.4583784226202043, 1.6308104975008733, 1.512708509912823, 2.2591660093985624, 1.2748434347471018, 1.6785580252581132, 2.196280882702716, 1.7720404192048347, 1.825025280755171, 1.8837881718934657, 1.936948696142029, 2.386434551545732, 2.4948932451363484, 1.927904396874422, 1.8837881718934657, 1.927904396874422, 1.9070640698712567, 2.386434551545732, 1.774352725398852, 2.350988653988775, 1.8608853610049203, 1.868850461432354, 2.646442182532729, 1.4861461049194642, 1.6319950864052728, 2.260564954474458, 2.5648894089303225, 2.397282103942566, 2.602013387984228, 2.4223823699406064, 2.4642711040066017, 2.512064783059284, 2.566822461746697, 2.4455565675167557, 2.6392600677883435, 2.386434551545732, 2.4455565675167557, 2.5455514025484094, 2.423584673540959, 2.512064783059284, 2.8203327457976517, 2.386434551545732, 2.7130067818794346, 2.423558530599638, 2.5600475408464156, 2.500733463303625, 2.386434551545732, 2.5407341973670734, 2.386434551545732, 2.386434551545732, 2.397282103942566, 2.423558530599638, 2.397282103942566, 2.456168049737262, 2.603993888582222, 2.4473778909486636, 2.386434551545732, 2.5491887621131903, 2.678043829349422, 2.4455565675167557, 2.423558530599638]\n"
     ]
    }
   ],
   "source": [
    "hundreth_tour_costs = []\n",
    "for i in range(0,100):\n",
    "    sample_scores = []\n",
    "    x_entropy_estimator.minimize(callback=callback)\n",
    "    hundreth_tour_costs.append(min(sample_scores[99]))\n",
    "    \n",
    "print(hundreth_tour_costs)\n",
    "#print(len(sample_scores))"
   ]
  },
  {
   "cell_type": "code",
   "execution_count": 12,
   "metadata": {},
   "outputs": [
    {
     "data": {
      "text/plain": [
       "(1.9070079962512199, 2.3190466282779156)"
      ]
     },
     "execution_count": 12,
     "metadata": {},
     "output_type": "execute_result"
    }
   ],
   "source": [
    "st.t.interval(0.95, len(hundreth_tour_costs)-1, loc=np.mean(hundreth_tour_costs), scale=st.sem(hundreth_tour_costs))"
   ]
  },
  {
   "cell_type": "code",
   "execution_count": 14,
   "metadata": {},
   "outputs": [
    {
     "data": {
      "text/plain": [
       "110"
      ]
     },
     "execution_count": 14,
     "metadata": {},
     "output_type": "execute_result"
    }
   ],
   "source": [
    "len(hundreth_tour_costs)"
   ]
  },
  {
   "cell_type": "code",
   "execution_count": null,
   "metadata": {},
   "outputs": [],
   "source": []
  }
 ],
 "metadata": {
  "kernelspec": {
   "display_name": "Python 3",
   "language": "python",
   "name": "python3"
  },
  "language_info": {
   "codemirror_mode": {
    "name": "ipython",
    "version": 3
   },
   "file_extension": ".py",
   "mimetype": "text/x-python",
   "name": "python",
   "nbconvert_exporter": "python",
   "pygments_lexer": "ipython3",
   "version": "3.7.0"
  }
 },
 "nbformat": 4,
 "nbformat_minor": 2
}
