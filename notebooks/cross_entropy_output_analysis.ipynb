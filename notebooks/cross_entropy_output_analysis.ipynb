{
 "cells": [
  {
   "cell_type": "code",
   "execution_count": 1,
   "metadata": {},
   "outputs": [],
   "source": [
    "import numpy as np, scipy.stats as st\n",
    "\n",
    "import src\n",
    "import src.tours as tours\n",
    "from src.cross_entropy import CrossEntropy\n"
   ]
  },
  {
   "cell_type": "code",
   "execution_count": 10,
   "metadata": {},
   "outputs": [],
   "source": [
    "# drone tour parameters\n",
    "num_sites, num_drones = 10, 4\n",
    "sites = np.random.rand(num_sites, 2)  # the 2 indicates we are sampling sites from the plane\n",
    "\n",
    "drone_tour = tours.DroneTour(sites, num_drones)\n",
    "\n",
    "# cross entropy parameters\n",
    "x_entropy_sample_size = 5 # sample size\n",
    "x_entropy_quantile = 0.2  # specifies the 90% percentile\n",
    "\n",
    "x_entropy_estimator = CrossEntropy(drone_tour, x_entropy_sample_size, x_entropy_quantile)\n",
    "\n",
    "# an example way to use the callback -- see below for details\n",
    "sample_scores = []\n",
    "hundreth_tour_costs = []"
   ]
  },
  {
   "cell_type": "code",
   "execution_count": 7,
   "metadata": {},
   "outputs": [],
   "source": [
    "def callback(**kwargs):\n",
    "    \"\"\"\n",
    "\n",
    "    :param kwargs:\n",
    "    The keyword arguments passed to callback are\n",
    "            - iteration, the current iteration\n",
    "            - sample_states, the current sample of states in the given round of annealing\n",
    "            - sample_scores, the scores associated with the sampled states in the given round of annealing\n",
    "            - threshold, the scores which form the (1-quantile) quantile of the sample scores\n",
    "            - distribution_parameters, the current parameters of the distribution of states in the state space\n",
    "    :return:\n",
    "    \"\"\"\n",
    "    sample_scores.append(kwargs['sample_scores'])  # for example, maybe we want a list of all sample scores during\n",
    "    # the run of cross entropy"
   ]
  },
  {
   "cell_type": "code",
   "execution_count": 11,
   "metadata": {},
   "outputs": [
    {
     "name": "stdout",
     "output_type": "stream",
     "text": [
      "[2.5113449455241312, 1.9311228398076326, 1.7465253485980547, 2.0167493386745075, 1.7455019302313026, 2.024112894338163, 2.4640445230780474, 2.0631805868797817, 2.4896254592039404, 2.1380652563101186]\n"
     ]
    }
   ],
   "source": [
    "for i in range(0,10):\n",
    "    sample_scores = []\n",
    "    x_entropy_estimator.minimize(callback=callback)\n",
    "    hundreth_tour_costs.append(min(sample_scores[99]))\n",
    "    \n",
    "print(hundreth_tour_costs)\n",
    "#print(len(sample_scores))"
   ]
  },
  {
   "cell_type": "code",
   "execution_count": 5,
   "metadata": {},
   "outputs": [
    {
     "data": {
      "text/plain": [
       "(2.5559624399056973, 3.152910121628667)"
      ]
     },
     "execution_count": 5,
     "metadata": {},
     "output_type": "execute_result"
    }
   ],
   "source": [
    "st.t.interval(0.95, len(hundreth_tour_costs)-1, loc=np.mean(hundreth_tour_costs), scale=st.sem(hundreth_tour_costs))"
   ]
  },
  {
   "cell_type": "code",
   "execution_count": null,
   "metadata": {},
   "outputs": [],
   "source": []
  }
 ],
 "metadata": {
  "kernelspec": {
   "display_name": "Python 3",
   "language": "python",
   "name": "python3"
  },
  "language_info": {
   "codemirror_mode": {
    "name": "ipython",
    "version": 3
   },
   "file_extension": ".py",
   "mimetype": "text/x-python",
   "name": "python",
   "nbconvert_exporter": "python",
   "pygments_lexer": "ipython3",
   "version": "3.7.0"
  }
 },
 "nbformat": 4,
 "nbformat_minor": 2
}
