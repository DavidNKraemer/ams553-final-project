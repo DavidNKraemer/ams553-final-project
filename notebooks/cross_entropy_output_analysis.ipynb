{
 "cells": [
  {
   "cell_type": "code",
   "execution_count": 6,
   "metadata": {},
   "outputs": [
    {
     "name": "stdout",
     "output_type": "stream",
     "text": [
      "[4.368352916574465, 2.1606409218081635, 2.3180519199045158, 1.9853536381862331, 3.5197611020805515, 2.380962959966978, 2.2450841923867517, 2.0524991490342614, 2.145778920736305, 1.9859173809960076]\n",
      "100\n"
     ]
    }
   ],
   "source": [
    "import numpy as np\n",
    "\n",
    "import src\n",
    "import src.tours as tours\n",
    "from src.cross_entropy import CrossEntropy\n",
    "\n",
    "# drone tour parameters\n",
    "num_sites, num_drones = 10, 4\n",
    "sites = np.random.rand(num_sites, 2)  # the 2 indicates we are sampling sites from the plane\n",
    "\n",
    "drone_tour = tours.DroneTour(sites, num_drones)\n",
    "\n",
    "# cross entropy parameters\n",
    "x_entropy_sample_size = 1\n",
    "x_entropy_quantile = 0.1  # specifies the 90% percentile\n",
    "\n",
    "x_entropy_estimator = CrossEntropy(drone_tour, x_entropy_sample_size, x_entropy_quantile)\n",
    "\n",
    "# an example way to use the callback -- see below for details\n",
    "sample_scores = []\n",
    "hundreth_tour_costs = []\n",
    "\n",
    "\n",
    "def callback(**kwargs):\n",
    "    \"\"\"\n",
    "\n",
    "    :param kwargs:\n",
    "    The keyword arguments passed to callback are\n",
    "            - iteration, the current iteration\n",
    "            - sample_states, the current sample of states in the given round of annealing\n",
    "            - sample_scores, the scores associated with the sampled states in the given round of annealing\n",
    "            - threshold, the scores which form the (1-quantile) quantile of the sample scores\n",
    "            - distribution_parameters, the current parameters of the distribution of states in the state space\n",
    "    :return:\n",
    "    \"\"\"\n",
    "    sample_scores.append(kwargs['sample_scores'])  # for example, maybe we want a list of all sample scores during\n",
    "    # the run of cross entropy\n",
    "\n",
    "\n",
    "for i in range(0,10):\n",
    "    sample_scores = []\n",
    "    x_entropy_estimator.minimize(callback=callback)\n",
    "    hundreth_tour_costs.append(sample_scores[99][0])\n",
    "    \n",
    "print(hundreth_tour_costs)\n",
    "print(len(sample_scores))\n"
   ]
  },
  {
   "cell_type": "code",
   "execution_count": null,
   "metadata": {},
   "outputs": [],
   "source": []
  }
 ],
 "metadata": {
  "kernelspec": {
   "display_name": "Python 3",
   "language": "python",
   "name": "python3"
  },
  "language_info": {
   "codemirror_mode": {
    "name": "ipython",
    "version": 3
   },
   "file_extension": ".py",
   "mimetype": "text/x-python",
   "name": "python",
   "nbconvert_exporter": "python",
   "pygments_lexer": "ipython3",
   "version": "3.7.0"
  }
 },
 "nbformat": 4,
 "nbformat_minor": 2
}
