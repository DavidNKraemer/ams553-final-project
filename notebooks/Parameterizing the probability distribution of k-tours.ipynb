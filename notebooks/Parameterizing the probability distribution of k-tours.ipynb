{
 "cells": [
  {
   "cell_type": "code",
   "execution_count": null,
   "metadata": {},
   "outputs": [],
   "source": [
    "# this imports the code written in the src directory\n",
    "import sys\n",
    "sys.path.insert(0, '../')\n",
    "\n",
    "import numpy as np"
   ]
  },
  {
   "cell_type": "markdown",
   "metadata": {},
   "source": [
    "# TSP Trajectory generation using node placements\n",
    "\n",
    "This is Algorithm 4.7.2 from Rubinstein and Kroese, *The Cross-Entropy Method: A Unified Approach to Combinatorial Optimization, Monte-Carlo Simulation, and Machine Learning* (2004). Given $n$ points in the plane $\\mathbb{R}^2$, we want to construct a TSP tour. Consider the point labels $[0,1,\\dots,n-1]$. It suffices to construct the tour on these labels. The idea from the book is as follows: suppose we have a discrete-time Markov chain on the labels with a transition probability matrix $P$. Starting from state $0$, draw the next state according to the distribution $P_{0, :}$. But in order to make sure that we don't accidentally choose $0$ again (invalid as a TSP tour), we negate the column $0$ and renormalize the entire matrix $P$. Then we proceed by drawing the next state. In general, given that we are at state $j$, we negate the $j$ column and renormalize $P$. Then we draw the next state from $P_{j,:}$. After we have done this $n-1$ times, we are finished, because we then must return to state $0$. In pseudocode, it resembles:\n",
    "\n",
    "1. Define $P^{(0)} = P$. Let $j = 0$.\n",
    "2. Generate $X_j$ from the distribution formed by the $j$th row of $P^{(j)}$. Obtain the matrix $P^{(j+1)}$ from $P^{(j)}$ by first setting the $X_j$th column of $P^{(j)}$ to $0$ and then normalizing the rows to sum up to $1$.\n",
    "3. If $j = n-1$, stop. Otherwise, set  $j = j + 1$ and repeat 2.\n",
    "\n",
    "## Relevance\n",
    "\n",
    "For the Cross-Entropy method, we need to create a way to parameterize the class of probability distributions over the space of tours. While there is a natural way to do so when we assume at the outset that all tours are equally useful---and hence probable---for CE to work we need to be able to adjust the distribution so that it emphasizes the better-scoring tours. Introducing the transition probability matrix $P$ gives us exactly this feature. Now we can adjust the likelihood of drawing a given tour depending on how successful that particular tour shows itself to be during the simulation."
   ]
  },
  {
   "cell_type": "markdown",
   "metadata": {},
   "source": [
    "Here is an implementation of the TSP trajectory generation technique:"
   ]
  },
  {
   "cell_type": "code",
   "execution_count": 2,
   "metadata": {},
   "outputs": [],
   "source": [
    "def normalize_nonnegative_matrix(matrix, axis):\n",
    "    \"\"\"\n",
    "    Given a nonnegative matrix P and an axis (either 0 -- for normalizing along columns -- or 1 -- for normalizing along rows), normalize the matrix.\n",
    "    \n",
    "    This is an inplace transformation: it modifies the original input matrix.\n",
    "    \"\"\"\n",
    "    matrix /= np.sum(matrix, axis=axis)[:,None]\n",
    "\n",
    "    \n",
    "def draw_from(distribution, size=1):\n",
    "    \"\"\"\n",
    "    Given a finite distribution [p0, p1, ... pn-1] (here pj is the probability of drawing j) such that sum(pj for pj in distribution) == 1,\n",
    "    draw a random variable X in [0, 1, ... n-1] which has the pmf of the distribution.\n",
    "    \n",
    "    The way it works is as follows. First, the cumulative distribution function is computed. Then, a uniform random variate U ~ U(0,1) is drawn. \n",
    "    We find the largest j such that U < cdf(j), and return it.\n",
    "    \"\"\"\n",
    "    \n",
    "    # The actual code involves some abuse of NumPy\n",
    "    # return np.argmax(1 - (np.cumsum(distribution) < np.random.rand()))\n",
    "    return np.random.choice(np.arange(len(distribution)), size=size, p=distribution)\n",
    "\n",
    "\n",
    "def generate_trajectory(transition_matrix):\n",
    "    \"\"\"\n",
    "    Generate a trajectory on the points [0, 1, ..., n-1] in accordance with the transition matrix of a Markov chain on these points. This method follows\n",
    "    the algorithm in (Rubinstein and Kroese 2004, Algorithm 4.7.2)\n",
    "    \"\"\"\n",
    "    n = transition_matrix.shape[0]\n",
    "    matrix = transition_matrix.copy()\n",
    "    trajectory = [0]\n",
    "    for j in range(len(matrix)-1):\n",
    "        matrix[:,trajectory[j]] = 0.\n",
    "        normalize_nonnegative_matrix(matrix, 1)\n",
    "        trajectory.append(np.asscalar(draw_from(matrix[trajectory[j],:].flatten())))\n",
    "\n",
    "    return trajectory"
   ]
  },
  {
   "cell_type": "code",
   "execution_count": 3,
   "metadata": {},
   "outputs": [],
   "source": [
    "# Demonstration\n",
    "n = 12\n",
    "P = np.ones((n,n)) #np.random.rand(n,n) # P[i,j] ~ Unif(0,1)\n",
    "normalize_nonnegative_matrix(P, axis=1)"
   ]
  },
  {
   "cell_type": "code",
   "execution_count": null,
   "metadata": {},
   "outputs": [
    {
     "data": {
      "text/plain": [
       "[0, 11, 5, 7, 4, 9, 6, 2, 1, 3, 8, 10]"
      ]
     },
     "execution_count": 20,
     "metadata": {},
     "output_type": "execute_result"
    }
   ],
   "source": [
    "generate_trajectory(P)"
   ]
  },
  {
   "cell_type": "markdown",
   "metadata": {},
   "source": [
    "# $k$-Drone Trajectory generation using node placements\n",
    "\n",
    "The challenge for us is to generalize this model for $k$-drone tours. Again, for CE to work well, we need to be able to adjust the distribution over the space of $k$-drone tours so that as the simulation proceeds, better $k$-drone tours are given higher preference. We would like a similar parameterization to the TSP ($1$-drone tour) case above, but that incorporates the added flexibility of multiple tours.\n",
    "\n",
    "Here's what I propose to be the new algorithm. Given input of a transition probability matrix $P$ *and* a probabilty distribution on $[0, 1, \\dots, n-1]$ denoted $[p_0, \\dots, p_{k-1}]$, we proceed with the trajectory genreation but with a modification. First, we select $k$ starting positions according to the probabilitiy distribution on the labels. Next, before we determine the next step in tours, we roll a $k$-sided die. Whichever drone $i$ the die lands on, we perform Step (2) from the original algorithm. Then we proceed as before.\n",
    "\n",
    "1. Define $P^{(0)} = P$. Let $j = 0$. Set $X_{0,0}, \\dots, X_{k-1,0}$ as a simple random sample according to the distribution $[p_0, \\dots, p_{k-1}]$.\n",
    "2. Roll a $k$-sided die. Let $i$ be the result.\n",
    "3. Generate $X_{i,-1}$ from the distribution formed by the $i$th row of $P^{(j)}$. Obtain the matrix $P^{(j+1)}$ from $P^{(j)}$ by first setting the $X_{i,-1}$th column of $P^{(j)}$ to $0$ and then normalizing the rows to sum up to $1$.\n",
    "4. If $j = n-1$, stop. Otherwise, set  $j = j + 1$ and repeat 2."
   ]
  },
  {
   "cell_type": "code",
   "execution_count": 39,
   "metadata": {},
   "outputs": [],
   "source": [
    "def generate_k_trajectory(transition_matrix, start_dist, k):\n",
    "    \"\"\"\n",
    "    Generates a k trajectory according to a specified transition probability matrix for a discrete-time Markov chain, a probability distribution over the starting sites, and a specified number of drones. \n",
    "    It works more or less as before in the 1-drone example, but now we have control over how many drones are in play as well as their initial locations.\n",
    "    \"\"\"\n",
    "    n = transition_matrix.shape[0]\n",
    "    matrix = transition_matrix.copy()\n",
    "    \n",
    "    starts = draw_from(start_dist, size=k)\n",
    "    trajectories = {\"Drone {0:02d}\".format(i): [start] for (i, start) in enumerate(starts)}\n",
    "    for (i, start) in enumerate(starts):\n",
    "        matrix[:, start] = 0.\n",
    "    normalize_nonnegative_matrix(matrix, 1)\n",
    "    \n",
    "    for j in range(len(matrix)-k):\n",
    "        i = \"Drone {0:02d}\".format(np.random.randint(0, k))\n",
    "        trajectories[i].append(np.asscalar(draw_from(matrix[trajectories[i][-1], :].flatten())))\n",
    "        if j < len(matrix) - k-1:\n",
    "            matrix[:, trajectories[i][-1]] = 0.\n",
    "            normalize_nonnegative_matrix(matrix, 1)\n",
    "\n",
    "    return trajectories"
   ]
  },
  {
   "cell_type": "code",
   "execution_count": 42,
   "metadata": {},
   "outputs": [],
   "source": [
    "# Demonstration\n",
    "n = 12\n",
    "P = np.random.rand(n, n)\n",
    "starts = np.random.rand(n)\n",
    "starts /= np.sum(starts)\n",
    "normalize_nonnegative_matrix(P, 1)"
   ]
  },
  {
   "cell_type": "code",
   "execution_count": 62,
   "metadata": {},
   "outputs": [
    {
     "data": {
      "text/plain": [
       "{'Drone 00': [6, 8, 1],\n",
       " 'Drone 01': [11],\n",
       " 'Drone 02': [11, 9, 0, 10, 4],\n",
       " 'Drone 03': [2, 5, 3]}"
      ]
     },
     "execution_count": 62,
     "metadata": {},
     "output_type": "execute_result"
    }
   ],
   "source": [
    "generate_k_trajectory(P, starts, 4)"
   ]
  },
  {
   "cell_type": "markdown",
   "metadata": {},
   "source": [
    "# Next steps\n",
    "\n",
    "We need to come up with a parameter updating formula for the parameters $P, q$ which fully describe the space of all $k$-tours."
   ]
  }
 ],
 "metadata": {
  "kernelspec": {
   "display_name": "Python 3",
   "language": "python",
   "name": "python3"
  },
  "language_info": {
   "codemirror_mode": {
    "name": "ipython",
    "version": 3
   },
   "file_extension": ".py",
   "mimetype": "text/x-python",
   "name": "python",
   "nbconvert_exporter": "python",
   "pygments_lexer": "ipython3",
   "version": "3.7.0"
  }
 },
 "nbformat": 4,
 "nbformat_minor": 2
}
