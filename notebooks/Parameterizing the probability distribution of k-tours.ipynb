{
 "cells": [
  {
   "cell_type": "code",
   "execution_count": 1,
   "metadata": {},
   "outputs": [],
   "source": [
    "# this imports the code written in the src directory\n",
    "import sys\n",
    "sys.path.insert(0, '../')\n",
    "\n",
    "import numpy as np"
   ]
  },
  {
   "cell_type": "markdown",
   "metadata": {},
   "source": [
    "# TSP Trajectory generation using node placements\n",
    "\n",
    "This is Algorithm 4.7.2 from Rubinstein and Kroese, *The Cross-Entropy Method: A Unified Approach to Combinatorial Optimization, Monte-Carlo Simulation, and Machine Learning* (2004). Given $n$ points in the plane $\\mathbb{R}^2$, we want to construct a TSP tour. Consider the point labels $[0,1,\\dots,n-1]$. It suffices to construct the tour on these labels. The idea from the book is as follows: suppose we have a discrete-time Markov chain on the labels with a transition probability matrix $P$. Starting from state $0$, draw the next state according to the distribution $P_{0, :}$. But in order to make sure that we don't accidentally choose $0$ again (invalid as a TSP tour), we negate the column $0$ and renormalize the entire matrix $P$. Then we proceed by drawing the next state. In general, given that we are at state $j$, we negate the $j$ column and renormalize $P$. Then we draw the next state from $P_{j,:}$. After we have done this $n-1$ times, we are finished, because we then must return to state $0$. In pseudocode, it resembles:\n",
    "\n",
    "1. Define $P^{(0)} = P$. Let $j = 0$.\n",
    "2. Generate $X_j$ from the distribution formed by the $j$th row of $P^{(j)}$. Obtain the matrix $P^{(j+1)}$ from $P^{(j)}$ by first setting the $X_j$th column of $P^{(j)}$ to $0$ and then normalizing the rows to sum up to $1$.\n",
    "3. If $j = n-1$, stop. Otherwise, set  $j = j + 1$ and repeat 2.\n",
    "\n",
    "## Relevance\n",
    "\n",
    "For the Cross-Entropy method, we need to create a way to parameterize the class of probability distributions over the space of tours. While there is a natural way to do so when we assume at the outset that all tours are equally useful---and hence probable---for CE to work we need to be able to adjust the distribution so that it emphasizes the better-scoring tours. Introducing the transition probability matrix $P$ gives us exactly this feature. Now we can adjust the likelihood of drawing a given tour depending on how successful that particular tour shows itself to be during the simulation."
   ]
  },
  {
   "cell_type": "markdown",
   "metadata": {},
   "source": [
    "Here is an implementation of the TSP trajectory generation technique:"
   ]
  },
  {
   "cell_type": "code",
   "execution_count": 2,
   "metadata": {},
   "outputs": [],
   "source": [
    "def normalize_nonnegative_matrix(matrix, axis):\n",
    "    \"\"\"\n",
    "    Given a nonnegative matrix P and an axis (either 0 -- for normalizing along columns -- or 1 -- for normalizing along rows), normalize the matrix.\n",
    "    \n",
    "    This is an inplace transformation: it modifies the original input matrix.\n",
    "    \"\"\"\n",
    "    matrix /= np.sum(matrix, axis=axis)[:,None]\n",
    "\n",
    "    \n",
    "def draw_from(distribution, size=1):\n",
    "    \"\"\"\n",
    "    Given a finite distribution [p0, p1, ... pn-1] (here pj is the probability of drawing j) such that sum(pj for pj in distribution) == 1,\n",
    "    draw a random variable X in [0, 1, ... n-1] which has the pmf of the distribution.\n",
    "    \n",
    "    The way it works is as follows. First, the cumulative distribution function is computed. Then, a uniform random variate U ~ U(0,1) is drawn. \n",
    "    We find the largest j such that U < cdf(j), and return it.\n",
    "    \"\"\"\n",
    "    \n",
    "    # The actual code involves some abuse of NumPy\n",
    "    # return np.argmax(1 - (np.cumsum(distribution) < np.random.rand()))\n",
    "    return np.random.choice(np.arange(len(distribution)), size=size, p=distribution)\n",
    "\n",
    "\n",
    "def generate_trajectory(transition_matrix):\n",
    "    \"\"\"\n",
    "    Generate a trajectory on the points [0, 1, ..., n-1] in accordance with the transition matrix of a Markov chain on these points. This method follows\n",
    "    the algorithm in (Rubinstein and Kroese 2004, Algorithm 4.7.2)\n",
    "    \"\"\"\n",
    "    n = transition_matrix.shape[0]\n",
    "    matrix = transition_matrix.copy()\n",
    "    trajectory = [0]\n",
    "    for j in range(len(matrix)-1):\n",
    "        matrix[:,trajectory[j]] = 0.\n",
    "        normalize_nonnegative_matrix(matrix, 1)\n",
    "        trajectory.append(np.asscalar(draw_from(matrix[trajectory[j],:].flatten())))\n",
    "\n",
    "    return trajectory"
   ]
  },
  {
   "cell_type": "code",
   "execution_count": 3,
   "metadata": {},
   "outputs": [],
   "source": [
    "# Demonstration\n",
    "n = 12\n",
    "P = np.random.rand(n,n) # P[i,j] ~ Unif(0,1)\n",
    "normalize_nonnegative_matrix(P, axis=1)"
   ]
  },
  {
   "cell_type": "code",
   "execution_count": 4,
   "metadata": {},
   "outputs": [
    {
     "data": {
      "text/plain": [
       "[0, 8, 2, 4, 3, 9, 7, 11, 1, 10, 6, 5]"
      ]
     },
     "execution_count": 4,
     "metadata": {},
     "output_type": "execute_result"
    }
   ],
   "source": [
    "generate_trajectory(P)"
   ]
  },
  {
   "cell_type": "markdown",
   "metadata": {},
   "source": [
    "# $k$-Drone Trajectory generation using node placements\n",
    "\n",
    "The challenge for us is to generalize this model for $k$-drone tours. Again, for CE to work well, we need to be able to adjust the distribution over the space of $k$-drone tours so that as the simulation proceeds, better $k$-drone tours are given higher preference. We would like a similar parameterization to the TSP ($1$-drone tour) case above, but that incorporates the added flexibility of multiple tours.\n",
    "\n",
    "Here's what I propose to be the new algorithm. Given input of a transition probability matrix $P$ *and* a probabilty distribution on $[0, 1, \\dots, n-1]$ denoted $[p_0, \\dots, p_{k-1}]$, we proceed with the trajectory genreation but with a modification. First, we select $k$ starting positions according to the probabilitiy distribution on the labels. Next, before we determine the next step in tours, we roll a $k$-sided die. Whichever drone $i$ the die lands on, we perform Step (2) from the original algorithm. Then we proceed as before.\n",
    "\n",
    "1. Define $P^{(0)} = P$. Let $j = 0$. Set $X_{0,0}, \\dots, X_{k-1,0}$ as a simple random sample according to the distribution $[p_0, \\dots, p_{k-1}]$.\n",
    "2. Roll a $k$-sided die. Let $i$ be the result.\n",
    "3. Generate $X_{i,-1}$ from the distribution formed by the $i$th row of $P^{(j)}$. Obtain the matrix $P^{(j+1)}$ from $P^{(j)}$ by first setting the $X_{i,-1}$th column of $P^{(j)}$ to $0$ and then normalizing the rows to sum up to $1$.\n",
    "4. If $j = n-1$, stop. Otherwise, set  $j = j + 1$ and repeat 2."
   ]
  },
  {
   "cell_type": "code",
   "execution_count": 5,
   "metadata": {},
   "outputs": [],
   "source": [
    "def generate_k_trajectory(transition_matrix, start_dist, k):\n",
    "    \"\"\"\n",
    "    Generates a k trajectory according to a specified transition probability matrix for a discrete-time Markov chain, a probability distribution over the starting sites, and a specified number of drones. \n",
    "    It works more or less as before in the 1-drone example, but now we have control over how many drones are in play as well as their initial locations.\n",
    "    \"\"\"\n",
    "    n = transition_matrix.shape[0]\n",
    "    matrix = transition_matrix.copy()\n",
    "    \n",
    "    starts = draw_from(start_dist, size=k)\n",
    "    trajectories = {\"Drone {0:02d}\".format(i): [start] for (i, start) in enumerate(starts)}\n",
    "    for (i, start) in enumerate(starts):\n",
    "        matrix[:, start] = 0.\n",
    "    normalize_nonnegative_matrix(matrix, 1)\n",
    "    \n",
    "    for j in range(len(matrix)-k):\n",
    "        i = \"Drone {0:02d}\".format(np.random.randint(0, k))\n",
    "        trajectories[i].append(np.asscalar(draw_from(matrix[trajectories[i][-1], :].flatten())))\n",
    "        if j < len(matrix) - k-1:\n",
    "            matrix[:, trajectories[i][-1]] = 0.\n",
    "            normalize_nonnegative_matrix(matrix, 1)\n",
    "\n",
    "    return trajectories"
   ]
  },
  {
   "cell_type": "code",
   "execution_count": 6,
   "metadata": {},
   "outputs": [],
   "source": [
    "# Demonstration\n",
    "n = 200\n",
    "P = np.random.rand(n, n)\n",
    "starts = np.random.rand(n)\n",
    "starts /= np.sum(starts)\n",
    "normalize_nonnegative_matrix(P, 1)"
   ]
  },
  {
   "cell_type": "code",
   "execution_count": 7,
   "metadata": {},
   "outputs": [
    {
     "data": {
      "text/plain": [
       "{'Drone 00': [87],\n",
       " 'Drone 01': [152],\n",
       " 'Drone 02': [2],\n",
       " 'Drone 03': [103, 109],\n",
       " 'Drone 04': [151, 61],\n",
       " 'Drone 05': [62],\n",
       " 'Drone 06': [106],\n",
       " 'Drone 07': [116, 67, 10, 30, 143],\n",
       " 'Drone 08': [126, 46, 9],\n",
       " 'Drone 09': [45, 74, 149],\n",
       " 'Drone 10': [142, 51, 195],\n",
       " 'Drone 11': [189],\n",
       " 'Drone 12': [90, 18, 34],\n",
       " 'Drone 13': [83, 167, 199],\n",
       " 'Drone 14': [130],\n",
       " 'Drone 15': [177, 47, 159],\n",
       " 'Drone 16': [50, 124],\n",
       " 'Drone 17': [84, 162, 6],\n",
       " 'Drone 18': [13, 92],\n",
       " 'Drone 19': [185],\n",
       " 'Drone 20': [112, 66, 136],\n",
       " 'Drone 21': [32, 125],\n",
       " 'Drone 22': [53, 5],\n",
       " 'Drone 23': [158, 42, 170],\n",
       " 'Drone 24': [133],\n",
       " 'Drone 25': [90, 85, 169],\n",
       " 'Drone 26': [37],\n",
       " 'Drone 27': [35],\n",
       " 'Drone 28': [144],\n",
       " 'Drone 29': [20, 79, 123],\n",
       " 'Drone 30': [75],\n",
       " 'Drone 31': [29, 89],\n",
       " 'Drone 32': [58, 44, 128, 137, 175, 26],\n",
       " 'Drone 33': [2, 4, 113],\n",
       " 'Drone 34': [171, 180],\n",
       " 'Drone 35': [45, 179],\n",
       " 'Drone 36': [22, 99],\n",
       " 'Drone 37': [105],\n",
       " 'Drone 38': [97, 31],\n",
       " 'Drone 39': [25],\n",
       " 'Drone 40': [151, 176],\n",
       " 'Drone 41': [116, 127],\n",
       " 'Drone 42': [187],\n",
       " 'Drone 43': [150, 82, 114, 120],\n",
       " 'Drone 44': [83],\n",
       " 'Drone 45': [88, 174],\n",
       " 'Drone 46': [29],\n",
       " 'Drone 47': [148, 16, 110],\n",
       " 'Drone 48': [0, 63],\n",
       " 'Drone 49': [116, 160],\n",
       " 'Drone 50': [87, 57, 191],\n",
       " 'Drone 51': [157, 166, 68],\n",
       " 'Drone 52': [35, 181],\n",
       " 'Drone 53': [11, 41],\n",
       " 'Drone 54': [52, 23],\n",
       " 'Drone 55': [76, 64],\n",
       " 'Drone 56': [198, 78],\n",
       " 'Drone 57': [81],\n",
       " 'Drone 58': [142, 118],\n",
       " 'Drone 59': [28, 91],\n",
       " 'Drone 60': [194, 111],\n",
       " 'Drone 61': [65, 8],\n",
       " 'Drone 62': [178],\n",
       " 'Drone 63': [133, 183],\n",
       " 'Drone 64': [164, 190],\n",
       " 'Drone 65': [106, 155],\n",
       " 'Drone 66': [54, 139],\n",
       " 'Drone 67': [77, 19],\n",
       " 'Drone 68': [3, 100],\n",
       " 'Drone 69': [150, 39, 73],\n",
       " 'Drone 70': [20, 1, 163],\n",
       " 'Drone 71': [116, 154],\n",
       " 'Drone 72': [121, 60],\n",
       " 'Drone 73': [11],\n",
       " 'Drone 74': [69],\n",
       " 'Drone 75': [35],\n",
       " 'Drone 76': [36, 140],\n",
       " 'Drone 77': [172, 193, 108, 94],\n",
       " 'Drone 78': [151, 196],\n",
       " 'Drone 79': [101, 135],\n",
       " 'Drone 80': [37],\n",
       " 'Drone 81': [198, 182],\n",
       " 'Drone 82': [164],\n",
       " 'Drone 83': [132],\n",
       " 'Drone 84': [153, 27, 134],\n",
       " 'Drone 85': [21, 14],\n",
       " 'Drone 86': [45],\n",
       " 'Drone 87': [58],\n",
       " 'Drone 88': [15],\n",
       " 'Drone 89': [28],\n",
       " 'Drone 90': [37, 168],\n",
       " 'Drone 91': [70, 141, 161],\n",
       " 'Drone 92': [157, 17, 119, 40],\n",
       " 'Drone 93': [33],\n",
       " 'Drone 94': [146],\n",
       " 'Drone 95': [105],\n",
       " 'Drone 96': [59, 72, 43, 86],\n",
       " 'Drone 97': [80, 107, 184],\n",
       " 'Drone 98': [147],\n",
       " 'Drone 99': [116]}"
      ]
     },
     "execution_count": 7,
     "metadata": {},
     "output_type": "execute_result"
    }
   ],
   "source": [
    "generate_k_trajectory(P, starts, 100)"
   ]
  },
  {
   "cell_type": "markdown",
   "metadata": {},
   "source": [
    "# Next steps\n",
    "\n",
    "We need to come up with a parameter updating formula for the parameters $P, q$ which fully describe the space of all $k$-tours."
   ]
  }
 ],
 "metadata": {
  "kernelspec": {
   "display_name": "Python 3",
   "language": "python",
   "name": "python3"
  },
  "language_info": {
   "codemirror_mode": {
    "name": "ipython",
    "version": 3
   },
   "file_extension": ".py",
   "mimetype": "text/x-python",
   "name": "python",
   "nbconvert_exporter": "python",
   "pygments_lexer": "ipython3",
   "version": "3.6.3"
  }
 },
 "nbformat": 4,
 "nbformat_minor": 2
}
