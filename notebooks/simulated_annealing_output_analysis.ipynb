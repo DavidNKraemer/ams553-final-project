{
 "cells": [
  {
   "cell_type": "code",
   "execution_count": 8,
   "metadata": {},
   "outputs": [],
   "source": [
    "import numpy as np, scipy.stats as st\n",
    "\n",
    "import src\n",
    "import src.tours as tours\n",
    "from src.annealing import Annealer\n"
   ]
  },
  {
   "cell_type": "code",
   "execution_count": 10,
   "metadata": {},
   "outputs": [],
   "source": [
    "# drone tour parameters\n",
    "num_sites, num_drones = 10, 4\n",
    "sites = np.random.rand(num_sites, 2)  # the 2 indicates we are sampling sites from the plane\n",
    "\n",
    "drone_tour = tours.DroneTour(sites, num_drones)\n",
    "\n",
    "# cross entropy parameters\n",
    "annealer = Annealer(drone_tour)\n",
    "\n",
    "# an example way to use the callback -- see below for details\n",
    "tour_costs = []\n",
    "hundreth_tour_costs = []"
   ]
  },
  {
   "cell_type": "code",
   "execution_count": 4,
   "metadata": {},
   "outputs": [],
   "source": [
    "def callback(**kwargs):\n",
    "    \"\"\"\n",
    "\n",
    "    :param kwargs:\n",
    "    The keyword arguments passed to callback are\n",
    "            - iteration, the current iteration\n",
    "            - current state, the state associated with the current annealing iteration\n",
    "            - current_cost, the cost associated with the current state\n",
    "            - new_state, a new state drawn in the current iteration\n",
    "            - new_cost, the cost associated with the new state\n",
    "            - acceptance_probability, the probability that the annealer will accept the new state as the next state in\n",
    "                                      the current iteration\n",
    "            - coin_flip, the value of the coin flip associated with the current iteration\n",
    "            - current_temperature, the temperature associated with the current iteration\n",
    "    :return:\n",
    "    \"\"\"\n",
    "    tour_costs.append(kwargs['current_cost'])  # for example, maybe we want a list of all samples drawn during\n",
    "    # the run of simulated annealing \n",
    "        "
   ]
  },
  {
   "cell_type": "code",
   "execution_count": 13,
   "metadata": {},
   "outputs": [
    {
     "name": "stdout",
     "output_type": "stream",
     "text": [
      "[2.0938355035831857, 2.235021443474309, 1.4667193366735487, 2.4799424450901815, 1.580109039046743, 1.0608794195133004, 1.9464207280272021, 1.721481272173364, 1.6468377073161342, 1.4172517820161232, 1.5879182502742635, 1.466847948786056, 1.477575741804422, 1.3250570642564927, 2.634488291137101, 1.572703198681007, 2.0957044908469773, 1.8329027134103053, 1.3021239030202163, 1.576900571284005, 0.9033192811081873, 1.4338002185689254, 1.4667193366735487, 1.9047403191864265, 1.8209278357479923, 1.4431747934538854, 1.6298140611492147, 1.7497581915427094, 1.7194175178779798, 1.373325384114369, 1.6994478027634305, 1.7313003251023131, 1.6537115551149935, 1.7819991258703427, 2.0156209601996378, 1.4941296824469084, 1.9079805020837515, 1.8227720962640248, 1.9860622606021283, 2.24942237160262, 1.373325384114369, 1.1085094797472788, 1.449327248038204, 1.5199568240313976, 1.367279035204766, 1.6607545938714248, 1.6522346547299271, 1.6509170696074198, 1.9127305152181286, 1.7031885368519484, 1.9172350963388944, 1.7194175178779796, 1.7900081226116815, 1.0608794195133004, 1.8408157890901498, 2.084323768243926, 1.3218695776943885, 1.6133526620421295, 1.5410060784468138, 1.5152704107536121, 1.936708813015458, 1.0018665656563803, 1.721481272173364, 1.5932088986062691, 1.7243098161377919, 1.466847948786056, 2.16555327396088, 1.591272274677447, 1.55861937468302, 1.4248785156226322, 1.7258940468032382, 1.3867644181387164, 1.908395375353406, 2.034565378231774, 1.5368956071252922, 1.9096139452704977, 2.191991727829322, 2.3690176620798717, 1.696276319578867, 1.576900571284005, 1.8454837128617938, 1.6994478027634305, 1.1245924570269792, 1.582329780325996, 1.856625436151024, 2.009589645642857, 1.5757452452081684, 2.5325582579750994, 1.2078376444737986, 1.5622140955311528, 1.2980704739259281, 1.9224414110732988, 1.4623604025132875, 1.7048244332038411, 1.9136768168196876, 1.5514305719950134, 1.5371412625625096, 1.8953048270575499, 2.1441094277114656, 2.189515091119863]\n"
     ]
    }
   ],
   "source": [
    "hundreth_tour_costs = []\n",
    "\n",
    "for i in range(0,100):\n",
    "    tour_costs = []\n",
    "    annealer.anneal(callback=callback)\n",
    "    hundreth_tour_costs.append(tour_costs[99])\n",
    "    \n",
    "print(hundreth_tour_costs)\n",
    "#print(len(tour_costs))"
   ]
  },
  {
   "cell_type": "code",
   "execution_count": 12,
   "metadata": {},
   "outputs": [
    {
     "data": {
      "text/plain": [
       "(1.492809652531115, 1.966309405991397)"
      ]
     },
     "execution_count": 12,
     "metadata": {},
     "output_type": "execute_result"
    }
   ],
   "source": [
    "st.t.interval(0.95, len(hundreth_tour_costs)-1, loc=np.mean(hundreth_tour_costs), scale=st.sem(hundreth_tour_costs))"
   ]
  },
  {
   "cell_type": "code",
   "execution_count": 14,
   "metadata": {},
   "outputs": [
    {
     "data": {
      "text/plain": [
       "100"
      ]
     },
     "execution_count": 14,
     "metadata": {},
     "output_type": "execute_result"
    }
   ],
   "source": [
    "len(hundreth_tour_costs)"
   ]
  },
  {
   "cell_type": "code",
   "execution_count": null,
   "metadata": {},
   "outputs": [],
   "source": []
  }
 ],
 "metadata": {
  "kernelspec": {
   "display_name": "Python 3",
   "language": "python",
   "name": "python3"
  },
  "language_info": {
   "codemirror_mode": {
    "name": "ipython",
    "version": 3
   },
   "file_extension": ".py",
   "mimetype": "text/x-python",
   "name": "python",
   "nbconvert_exporter": "python",
   "pygments_lexer": "ipython3",
   "version": "3.7.0"
  }
 },
 "nbformat": 4,
 "nbformat_minor": 2
}
