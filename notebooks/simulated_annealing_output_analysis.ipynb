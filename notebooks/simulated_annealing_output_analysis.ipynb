{
 "cells": [
  {
   "cell_type": "code",
   "execution_count": 25,
   "metadata": {},
   "outputs": [
    {
     "name": "stdout",
     "output_type": "stream",
     "text": [
      "[1.780435886526604, 1.863936357937109, 2.4471041421425435, 1.8647145556634555, 1.9144724270547355]\n",
      "11000\n"
     ]
    }
   ],
   "source": [
    "import numpy as np\n",
    "\n",
    "import src\n",
    "import src.tours as tours\n",
    "from src.annealing import Annealer\n",
    "from src.tour_generation import ModifiedKroeseTourGenerator\n",
    "\n",
    "# drone tour parameters\n",
    "num_sites, num_drones = 10, 4\n",
    "sites = np.random.rand(num_sites, 2)  # the 2 indicates we are sampling sites from the plane\n",
    "\n",
    "tour_generator = ModifiedKroeseTourGenerator(num_sites, num_drones, replace=True)\n",
    "drone_tour = tours.DroneTour(sites, num_drones, tour_generator)\n",
    "\n",
    "# cross entropy parameters\n",
    "annealer = Annealer(drone_tour)\n",
    "\n",
    "# an example way to use the callback -- see below for details\n",
    "tour_costs = []\n",
    "hundreth_tour_costs = []\n",
    "\n",
    "\n",
    "def callback(**kwargs):\n",
    "    \"\"\"\n",
    "\n",
    "    :param kwargs:\n",
    "    The keyword arguments passed to callback are\n",
    "            - iteration, the current iteration\n",
    "            - current state, the state associated with the current annealing iteration\n",
    "            - current_cost, the cost associated with the current state\n",
    "            - new_state, a new state drawn in the current iteration\n",
    "            - new_cost, the cost associated with the new state\n",
    "            - acceptance_probability, the probability that the annealer will accept the new state as the next state in\n",
    "                                      the current iteration\n",
    "            - coin_flip, the value of the coin flip associated with the current iteration\n",
    "            - current_temperature, the temperature associated with the current iteration\n",
    "    :return:\n",
    "    \"\"\"\n",
    "    tour_costs.append(kwargs['current_cost'])  # for example, maybe we want a list of all samples drawn during\n",
    "    # the run of simulated annealing \n",
    "        \n",
    "\n",
    "for i in range(0,5):\n",
    "    tour_costs = []\n",
    "    annealer.anneal(callback=callback)\n",
    "    hundreth_tour_costs.append(tour_costs[99])\n",
    "    \n",
    "print(hundreth_tour_costs)\n",
    "print(len(tour_costs))\n"
   ]
  },
  {
   "cell_type": "code",
   "execution_count": null,
   "metadata": {},
   "outputs": [],
   "source": []
  }
 ],
 "metadata": {
  "kernelspec": {
   "display_name": "Python 3",
   "language": "python",
   "name": "python3"
  },
  "language_info": {
   "codemirror_mode": {
    "name": "ipython",
    "version": 3
   },
   "file_extension": ".py",
   "mimetype": "text/x-python",
   "name": "python",
   "nbconvert_exporter": "python",
   "pygments_lexer": "ipython3",
   "version": "3.7.0"
  }
 },
 "nbformat": 4,
 "nbformat_minor": 2
}
